{
  "cells": [
    {
      "cell_type": "code",
      "execution_count": null,
      "metadata": {
        "_cell_guid": "b1076dfc-b9ad-4769-8c92-a6c4dae69d19",
        "_uuid": "8f2839f25d086af736a60e9eeb907d3b93b6e0e5",
        "execution": {
          "iopub.execute_input": "2024-11-10T09:12:45.779030Z",
          "iopub.status.busy": "2024-11-10T09:12:45.778199Z",
          "iopub.status.idle": "2024-11-10T09:12:46.864418Z",
          "shell.execute_reply": "2024-11-10T09:12:46.863434Z",
          "shell.execute_reply.started": "2024-11-10T09:12:45.778989Z"
        },
        "trusted": true,
        "id": "9Mk2S3gOYely"
      },
      "outputs": [],
      "source": [
        "import numpy as np # linear algebra\n",
        "import pandas as pd # data processing, CSV file I/O (e.g. pd.read_csv)\n",
        "import os\n",
        "for dirname, _, filenames in os.walk('/kaggle/input'):\n",
        "    for filename in filenames:\n",
        "        print(os.path.join(dirname, filename))\n",
        "\n",
        "# You can write up to 20GB to the current directory (/kaggle/working/) that gets preserved as output when you create a version using \"Save & Run All\"\n",
        "# You can also write temporary files to /kaggle/temp/, but they won't be saved outside of the current session"
      ]
    },
    {
      "cell_type": "code",
      "execution_count": null,
      "metadata": {
        "execution": {
          "iopub.execute_input": "2024-11-10T09:47:38.695758Z",
          "iopub.status.busy": "2024-11-10T09:47:38.694970Z",
          "iopub.status.idle": "2024-11-10T09:47:39.928148Z",
          "shell.execute_reply": "2024-11-10T09:47:39.926983Z",
          "shell.execute_reply.started": "2024-11-10T09:47:38.695701Z"
        },
        "trusted": true,
        "id": "gnRrmMWCYel0"
      },
      "outputs": [],
      "source": [
        "df = pd.read_csv(\"/kaggle/input/skin-cancer-mnist-ham10000/hmnist_28_28_L.csv\")"
      ]
    },
    {
      "cell_type": "code",
      "execution_count": null,
      "metadata": {
        "execution": {
          "iopub.execute_input": "2024-11-10T09:47:41.057541Z",
          "iopub.status.busy": "2024-11-10T09:47:41.056522Z",
          "iopub.status.idle": "2024-11-10T09:47:41.083892Z",
          "shell.execute_reply": "2024-11-10T09:47:41.082672Z",
          "shell.execute_reply.started": "2024-11-10T09:47:41.057493Z"
        },
        "trusted": true,
        "id": "_VfVRaIyYel0"
      },
      "outputs": [],
      "source": [
        "X = df.drop('label', axis=1)\n",
        "y = df['label']"
      ]
    },
    {
      "cell_type": "code",
      "execution_count": null,
      "metadata": {
        "execution": {
          "iopub.execute_input": "2024-11-10T09:47:48.159602Z",
          "iopub.status.busy": "2024-11-10T09:47:48.158536Z",
          "iopub.status.idle": "2024-11-10T09:47:48.164498Z",
          "shell.execute_reply": "2024-11-10T09:47:48.163388Z",
          "shell.execute_reply.started": "2024-11-10T09:47:48.159555Z"
        },
        "trusted": true,
        "id": "n3Exdlq-Yel1"
      },
      "outputs": [],
      "source": [
        "from sklearn.cluster import KMeans\n",
        "from sklearn.preprocessing import StandardScaler\n",
        "from sklearn.metrics import silhouette_score"
      ]
    },
    {
      "cell_type": "code",
      "execution_count": null,
      "metadata": {
        "execution": {
          "iopub.execute_input": "2024-11-10T09:47:49.083567Z",
          "iopub.status.busy": "2024-11-10T09:47:49.082547Z",
          "iopub.status.idle": "2024-11-10T09:47:49.249928Z",
          "shell.execute_reply": "2024-11-10T09:47:49.248710Z",
          "shell.execute_reply.started": "2024-11-10T09:47:49.083516Z"
        },
        "trusted": true,
        "id": "qhMrc_UeYel1"
      },
      "outputs": [],
      "source": [
        "scaler = StandardScaler()\n",
        "X_scaled = scaler.fit_transform(X)"
      ]
    },
    {
      "cell_type": "code",
      "execution_count": null,
      "metadata": {
        "execution": {
          "iopub.execute_input": "2024-11-10T09:47:51.811401Z",
          "iopub.status.busy": "2024-11-10T09:47:51.810636Z",
          "iopub.status.idle": "2024-11-10T09:48:02.773053Z",
          "shell.execute_reply": "2024-11-10T09:48:02.771883Z",
          "shell.execute_reply.started": "2024-11-10T09:47:51.811357Z"
        },
        "trusted": true,
        "id": "AIxzeoW1Yel1",
        "outputId": "776e44ab-8d9c-4f0f-a281-bea328f3dffd"
      },
      "outputs": [
        {
          "name": "stderr",
          "output_type": "stream",
          "text": [
            "/opt/conda/lib/python3.10/site-packages/sklearn/cluster/_kmeans.py:870: FutureWarning: The default value of `n_init` will change from 10 to 'auto' in 1.4. Set the value of `n_init` explicitly to suppress the warning\n",
            "  warnings.warn(\n"
          ]
        },
        {
          "data": {
            "text/html": [
              "<style>#sk-container-id-2 {color: black;background-color: white;}#sk-container-id-2 pre{padding: 0;}#sk-container-id-2 div.sk-toggleable {background-color: white;}#sk-container-id-2 label.sk-toggleable__label {cursor: pointer;display: block;width: 100%;margin-bottom: 0;padding: 0.3em;box-sizing: border-box;text-align: center;}#sk-container-id-2 label.sk-toggleable__label-arrow:before {content: \"▸\";float: left;margin-right: 0.25em;color: #696969;}#sk-container-id-2 label.sk-toggleable__label-arrow:hover:before {color: black;}#sk-container-id-2 div.sk-estimator:hover label.sk-toggleable__label-arrow:before {color: black;}#sk-container-id-2 div.sk-toggleable__content {max-height: 0;max-width: 0;overflow: hidden;text-align: left;background-color: #f0f8ff;}#sk-container-id-2 div.sk-toggleable__content pre {margin: 0.2em;color: black;border-radius: 0.25em;background-color: #f0f8ff;}#sk-container-id-2 input.sk-toggleable__control:checked~div.sk-toggleable__content {max-height: 200px;max-width: 100%;overflow: auto;}#sk-container-id-2 input.sk-toggleable__control:checked~label.sk-toggleable__label-arrow:before {content: \"▾\";}#sk-container-id-2 div.sk-estimator input.sk-toggleable__control:checked~label.sk-toggleable__label {background-color: #d4ebff;}#sk-container-id-2 div.sk-label input.sk-toggleable__control:checked~label.sk-toggleable__label {background-color: #d4ebff;}#sk-container-id-2 input.sk-hidden--visually {border: 0;clip: rect(1px 1px 1px 1px);clip: rect(1px, 1px, 1px, 1px);height: 1px;margin: -1px;overflow: hidden;padding: 0;position: absolute;width: 1px;}#sk-container-id-2 div.sk-estimator {font-family: monospace;background-color: #f0f8ff;border: 1px dotted black;border-radius: 0.25em;box-sizing: border-box;margin-bottom: 0.5em;}#sk-container-id-2 div.sk-estimator:hover {background-color: #d4ebff;}#sk-container-id-2 div.sk-parallel-item::after {content: \"\";width: 100%;border-bottom: 1px solid gray;flex-grow: 1;}#sk-container-id-2 div.sk-label:hover label.sk-toggleable__label {background-color: #d4ebff;}#sk-container-id-2 div.sk-serial::before {content: \"\";position: absolute;border-left: 1px solid gray;box-sizing: border-box;top: 0;bottom: 0;left: 50%;z-index: 0;}#sk-container-id-2 div.sk-serial {display: flex;flex-direction: column;align-items: center;background-color: white;padding-right: 0.2em;padding-left: 0.2em;position: relative;}#sk-container-id-2 div.sk-item {position: relative;z-index: 1;}#sk-container-id-2 div.sk-parallel {display: flex;align-items: stretch;justify-content: center;background-color: white;position: relative;}#sk-container-id-2 div.sk-item::before, #sk-container-id-2 div.sk-parallel-item::before {content: \"\";position: absolute;border-left: 1px solid gray;box-sizing: border-box;top: 0;bottom: 0;left: 50%;z-index: -1;}#sk-container-id-2 div.sk-parallel-item {display: flex;flex-direction: column;z-index: 1;position: relative;background-color: white;}#sk-container-id-2 div.sk-parallel-item:first-child::after {align-self: flex-end;width: 50%;}#sk-container-id-2 div.sk-parallel-item:last-child::after {align-self: flex-start;width: 50%;}#sk-container-id-2 div.sk-parallel-item:only-child::after {width: 0;}#sk-container-id-2 div.sk-dashed-wrapped {border: 1px dashed gray;margin: 0 0.4em 0.5em 0.4em;box-sizing: border-box;padding-bottom: 0.4em;background-color: white;}#sk-container-id-2 div.sk-label label {font-family: monospace;font-weight: bold;display: inline-block;line-height: 1.2em;}#sk-container-id-2 div.sk-label-container {text-align: center;}#sk-container-id-2 div.sk-container {/* jupyter's `normalize.less` sets `[hidden] { display: none; }` but bootstrap.min.css set `[hidden] { display: none !important; }` so we also need the `!important` here to be able to override the default hidden behavior on the sphinx rendered scikit-learn.org. See: https://github.com/scikit-learn/scikit-learn/issues/21755 */display: inline-block !important;position: relative;}#sk-container-id-2 div.sk-text-repr-fallback {display: none;}</style><div id=\"sk-container-id-2\" class=\"sk-top-container\"><div class=\"sk-text-repr-fallback\"><pre>KMeans(n_clusters=7, random_state=42)</pre><b>In a Jupyter environment, please rerun this cell to show the HTML representation or trust the notebook. <br />On GitHub, the HTML representation is unable to render, please try loading this page with nbviewer.org.</b></div><div class=\"sk-container\" hidden><div class=\"sk-item\"><div class=\"sk-estimator sk-toggleable\"><input class=\"sk-toggleable__control sk-hidden--visually\" id=\"sk-estimator-id-2\" type=\"checkbox\" checked><label for=\"sk-estimator-id-2\" class=\"sk-toggleable__label sk-toggleable__label-arrow\">KMeans</label><div class=\"sk-toggleable__content\"><pre>KMeans(n_clusters=7, random_state=42)</pre></div></div></div></div></div>"
            ],
            "text/plain": [
              "KMeans(n_clusters=7, random_state=42)"
            ]
          },
          "execution_count": 22,
          "metadata": {},
          "output_type": "execute_result"
        }
      ],
      "source": [
        "n_clusters = 7  # Number of skin lesion classes\n",
        "kmeans = KMeans(n_clusters=n_clusters, random_state=42)\n",
        "kmeans.fit(X_scaled)"
      ]
    },
    {
      "cell_type": "code",
      "execution_count": null,
      "metadata": {
        "execution": {
          "iopub.execute_input": "2024-11-10T09:48:02.776298Z",
          "iopub.status.busy": "2024-11-10T09:48:02.775156Z",
          "iopub.status.idle": "2024-11-10T09:48:05.618370Z",
          "shell.execute_reply": "2024-11-10T09:48:05.617237Z",
          "shell.execute_reply.started": "2024-11-10T09:48:02.776244Z"
        },
        "trusted": true,
        "id": "LC3OwdkCYel1",
        "outputId": "ce19460b-b986-4de7-a6c5-3d89f893d3bf"
      },
      "outputs": [
        {
          "name": "stdout",
          "output_type": "stream",
          "text": [
            "Silhouette Score for K-Means Clustering: 0.12\n"
          ]
        }
      ],
      "source": [
        "score = silhouette_score(X_scaled, kmeans.labels_)\n",
        "print(f'Silhouette Score for K-Means Clustering: {score:.2f}')"
      ]
    },
    {
      "cell_type": "code",
      "execution_count": null,
      "metadata": {
        "execution": {
          "iopub.execute_input": "2024-11-10T09:49:35.953894Z",
          "iopub.status.busy": "2024-11-10T09:49:35.953395Z",
          "iopub.status.idle": "2024-11-10T09:49:36.443962Z",
          "shell.execute_reply": "2024-11-10T09:49:36.442847Z",
          "shell.execute_reply.started": "2024-11-10T09:49:35.953828Z"
        },
        "trusted": true,
        "id": "rT_OZT4JYel2",
        "outputId": "41f0f353-ba30-4150-89fb-e08032d24cd1"
      },
      "outputs": [
        {
          "data": {
            "image/png": "[encoded data removed]",
            "text/plain": [
              "<Figure size 1200x600 with 7 Axes>"
            ]
          },
          "metadata": {},
          "output_type": "display_data"
        }
      ],
      "source": [
        "import matplotlib.pyplot as plt\n",
        "\n",
        "# Reshape cluster centers to 28x28 and plot them\n",
        "fig, axes = plt.subplots(1, n_clusters, figsize=(12, 6))\n",
        "for i, center in enumerate(kmeans.cluster_centers_):\n",
        "    axes[i].imshow(center.reshape(28, 28), cmap='gray')\n",
        "    axes[i].axis('off')\n",
        "    axes[i].set_title(f'Cluster {i+1}')\n",
        "plt.show()\n"
      ]
    },
    {
      "cell_type": "code",
      "execution_count": null,
      "metadata": {
        "id": "kUp7F9tFYel2"
      },
      "outputs": [],
      "source": []
    }
  ],
  "metadata": {
    "kaggle": {
      "accelerator": "none",
      "dataSources": [
        {
          "datasetId": 54339,
          "sourceId": 104884,
          "sourceType": "datasetVersion"
        }
      ],
      "dockerImageVersionId": 30786,
      "isGpuEnabled": false,
      "isInternetEnabled": true,
      "language": "python",
      "sourceType": "notebook"
    },
    "kernelspec": {
      "display_name": "Python 3",
      "language": "python",
      "name": "python3"
    },
    "language_info": {
      "codemirror_mode": {
        "name": "ipython",
        "version": 3
      },
      "file_extension": ".py",
      "mimetype": "text/x-python",
      "name": "python",
      "nbconvert_exporter": "python",
      "pygments_lexer": "ipython3",
      "version": "3.10.14"
    },
    "colab": {
      "provenance": []
    }
  },
  "nbformat": 4,
  "nbformat_minor": 0
}